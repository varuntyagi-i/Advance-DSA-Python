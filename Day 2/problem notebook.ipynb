{
 "cells": [
  {
   "cell_type": "code",
   "execution_count": 32,
   "metadata": {},
   "outputs": [
    {
     "data": {
      "text/plain": [
       "' \\nclass Day2:\\n    def \\n\\nans = Day2()\\nprint(ans.)\\n'"
      ]
     },
     "execution_count": 32,
     "metadata": {},
     "output_type": "execute_result"
    }
   ],
   "source": [
    "''' \n",
    "class Day2:\n",
    "    def \n",
    "\n",
    "ans = Day2()\n",
    "print(ans.)\n",
    "'''"
   ]
  },
  {
   "cell_type": "code",
   "execution_count": 33,
   "metadata": {},
   "outputs": [
    {
     "name": "stdout",
     "output_type": "stream",
     "text": [
      "35\n"
     ]
    }
   ],
   "source": [
    "'''\n",
    "lst = [10,20,40,30,50,90]\n",
    "Find median from above list\n",
    "'''\n",
    "\n",
    "class Day2:\n",
    "    def median(self, lst):\n",
    "        n = len(lst)\n",
    "        lst.sort() # lst = sorted(lst, reverse=True)\n",
    "        if n%2==0:\n",
    "            ind1 = n//2\n",
    "            ind2 = n//2 - 1\n",
    "            ans = (lst[ind1]+lst[ind2])//2\n",
    "        else:\n",
    "            ans = lst[(n-1)//2]\n",
    "        return ans\n",
    "\n",
    "lst = [10,20,40,30,50,90]\n",
    "ans = Day2()\n",
    "print(ans.median(lst))\n"
   ]
  },
  {
   "cell_type": "code",
   "execution_count": 34,
   "metadata": {},
   "outputs": [
    {
     "name": "stdout",
     "output_type": "stream",
     "text": [
      "30\n"
     ]
    }
   ],
   "source": [
    "'''\n",
    "lst = [10,20,40,30,50]\n",
    "Find imidiate smaler than x\n",
    "'''\n",
    "\n",
    "lst = [10,20,40,30,50]\n",
    "x = 32\n",
    "\n",
    "class Day2:\n",
    "    def immediate_smaller(self, lst, x):\n",
    "        ans = 100\n",
    "        for ele in lst:\n",
    "            if ele < x :\n",
    "                diff_val = abs(x-ele)\n",
    "                if ans > diff_val:\n",
    "                    ans = ele\n",
    "        return ans\n",
    "\n",
    "\n",
    "ans = Day2()\n",
    "print(ans.immediate_smaller(lst, x))\n"
   ]
  },
  {
   "cell_type": "code",
   "execution_count": 35,
   "metadata": {},
   "outputs": [
    {
     "name": "stdout",
     "output_type": "stream",
     "text": [
      "x is having higher freq. of 4\n"
     ]
    }
   ],
   "source": [
    "'''\n",
    "lst = [1,1,2,3,3,4,4,4,4,5]\n",
    "n=11\n",
    "x=4\n",
    "y=5\n",
    "\n",
    "freq_x = ?\n",
    "freq_y = ?\n",
    "\n",
    "return whichever is having high freq. ? \n",
    "in case of same freq return the smallest one\n",
    "'''\n",
    "lst = [1,1,2,3,3,4,4,4,4,5]\n",
    "n=11\n",
    "x=4\n",
    "y=5\n",
    "\n",
    "class Day2:\n",
    "    def get_freq(self, lst, n, x, y):\n",
    "        freq_x = 0\n",
    "        freq_y = 0\n",
    "        for ele in lst:\n",
    "            if ele == x:\n",
    "                freq_x+= 1\n",
    "            elif ele == y :\n",
    "                freq_y += 1\n",
    "        \n",
    "        if freq_y>freq_x:\n",
    "            return f'y is having higher freq. of {freq_y}'\n",
    "        elif freq_x>freq_y:\n",
    "            return f'x is having higher freq. of {freq_x}'\n",
    "        else:\n",
    "            if x<y:\n",
    "                return f'both are having same freq. hence return small value i.e. x with freq. {freq_x}'\n",
    "            else:\n",
    "                return f'both are having same freq. hence return small value i.e. y with freq. {freq_y}'\n",
    "        \n",
    "ans = Day2()\n",
    "print(ans.get_freq(lst, n, x, y))\n"
   ]
  },
  {
   "cell_type": "code",
   "execution_count": 62,
   "metadata": {},
   "outputs": [
    {
     "name": "stdout",
     "output_type": "stream",
     "text": [
      "1\n"
     ]
    }
   ],
   "source": [
    "\"\"\" \n",
    "Increasing or Decreasing Array\n",
    "Eg.\n",
    "[0,1,2,3,4] -> increasing order, return 1\n",
    "[0,5,7] -> increasing order, return 1\n",
    "[0,7,5] -> return 0\n",
    "[7,5,0] -> return 1\n",
    "\"\"\"\n",
    "\n",
    "# lst = [0,1,2,3,4]\n",
    "# lst = [7,5,0]\n",
    "# lst = [0,7,5]\n",
    "# lst = [1,0]\n",
    "# lst = [9,9,4,3,2,1]\n",
    "lst = [2,3,4,5,5,9]\n",
    "\n",
    "class Day2:\n",
    "    def arr_check(self, lst):\n",
    "        n = len(lst)\n",
    "        check_len = 0\n",
    "        eq_len = 0\n",
    "        init_indx = 0\n",
    "        while init_indx<n-1:\n",
    "            if lst[init_indx] > lst[init_indx+1]:\n",
    "                check_len += 1\n",
    "            elif lst[init_indx] < lst[init_indx+1]:\n",
    "                check_len -= 1\n",
    "            else:\n",
    "                eq_len += 1\n",
    "            init_indx+=1\n",
    "        \n",
    "        if n==(abs(check_len)+eq_len+1):\n",
    "            return 1\n",
    "        else:\n",
    "            return 0\n",
    "\n",
    "ans = Day2()\n",
    "print(ans.arr_check(lst))\n"
   ]
  },
  {
   "cell_type": "code",
   "execution_count": 67,
   "metadata": {},
   "outputs": [
    {
     "name": "stdout",
     "output_type": "stream",
     "text": [
      "[7, 6, 5, 4, 3, 2]\n"
     ]
    }
   ],
   "source": [
    "\"\"\" \n",
    "reverse and array\n",
    "[2,3,4,5,6,7]\n",
    "\"\"\"\n",
    "\n",
    "# lst = [2,3,4,5,6,7]\n",
    "\n",
    "# class Day2:\n",
    "#     def reverse(self, lst):\n",
    "#         init_ind = 0\n",
    "#         ans = []\n",
    "#         while init_ind < len(lst):\n",
    "#             ans.insert(0,lst[init_ind])\n",
    "#             init_ind += 1\n",
    "#         return ans\n",
    "\n",
    "lst = [2,3,4,5,6,7]\n",
    "\n",
    "class Day2:\n",
    "    def reverse(self, lst):\n",
    "        init_ind = 0\n",
    "        end_ind = len(lst)-1\n",
    "        while init_ind < end_ind:\n",
    "            lst[init_ind], lst[end_ind] = lst[end_ind], lst[init_ind]\n",
    "            init_ind += 1\n",
    "            end_ind -= 1\n",
    "        return lst\n",
    "\n",
    "ans = Day2()\n",
    "print(ans.reverse(lst))"
   ]
  },
  {
   "cell_type": "code",
   "execution_count": 77,
   "metadata": {},
   "outputs": [
    {
     "name": "stdout",
     "output_type": "stream",
     "text": [
      "[3, 4, 5, 6, 1, 2]\n"
     ]
    }
   ],
   "source": [
    "\"\"\" \n",
    "Rotate the array from some index\n",
    "n=5\n",
    "d=2\n",
    "\n",
    "[1,2,3,4,5] -> [3,4,5,1,2]\n",
    "[1,2,3,4,5,6] -> [3,4,5,6,1,2]\n",
    "\n",
    "\"\"\"\n",
    "\n",
    "d=2\n",
    "lst = [1,2,3,4,5,6]\n",
    "\n",
    "# class Day2:\n",
    "#     def rotate(self, d, lst):\n",
    "#         ans = lst[d:] +lst[:d]\n",
    "#         return ans\n",
    "\n",
    "\n",
    "class Day2:\n",
    "    def reverse(self, lst, init_ind, end_ind):\n",
    "        while init_ind < end_ind:\n",
    "            lst[init_ind], lst[end_ind] = lst[end_ind], lst[init_ind]\n",
    "            init_ind += 1\n",
    "            end_ind -= 1\n",
    "        return lst\n",
    "    \n",
    "    def rotate(self, d, lst):\n",
    "        d=len(lst)-d\n",
    "        lst = self.reverse(lst, 0, len(lst)-1)\n",
    "        lst = self.reverse(lst, 0, d-1)\n",
    "        lst = self.reverse(lst, d, len(lst)-1)\n",
    "        return lst\n",
    "    \n",
    "\n",
    "ans = Day2()\n",
    "print(ans.rotate(d, lst))\n"
   ]
  },
  {
   "cell_type": "code",
   "execution_count": null,
   "metadata": {},
   "outputs": [],
   "source": []
  }
 ],
 "metadata": {
  "kernelspec": {
   "display_name": ".venv",
   "language": "python",
   "name": "python3"
  },
  "language_info": {
   "codemirror_mode": {
    "name": "ipython",
    "version": 3
   },
   "file_extension": ".py",
   "mimetype": "text/x-python",
   "name": "python",
   "nbconvert_exporter": "python",
   "pygments_lexer": "ipython3",
   "version": "3.10.12"
  }
 },
 "nbformat": 4,
 "nbformat_minor": 2
}
